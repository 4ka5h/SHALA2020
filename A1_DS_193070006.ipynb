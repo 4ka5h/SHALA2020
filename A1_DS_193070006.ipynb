{
  "nbformat": 4,
  "nbformat_minor": 0,
  "metadata": {
    "colab": {
      "name": "A1_DS_193070006.ipynb",
      "provenance": [],
      "collapsed_sections": [],
      "include_colab_link": true
    },
    "kernelspec": {
      "name": "python3",
      "display_name": "Python 3"
    }
  },
  "cells": [
    {
      "cell_type": "markdown",
      "metadata": {
        "id": "view-in-github",
        "colab_type": "text"
      },
      "source": [
        "<a href=\"https://colab.research.google.com/github/aksgpt30/SHALA2020/blob/master/A1_DS_193070006.ipynb\" target=\"_parent\"><img src=\"https://colab.research.google.com/assets/colab-badge.svg\" alt=\"Open In Colab\"/></a>"
      ]
    },
    {
      "cell_type": "markdown",
      "metadata": {
        "id": "hmr2U-GChnlR",
        "colab_type": "text"
      },
      "source": [
        "\n",
        "# **Assignment - 1 : Getting Started**\n",
        "\n",
        "---\n",
        "\n",
        "This assignment will get you familiarized with python libraries required for ***data science*** and ***machine learning***. You will have to complete the code snippets and run them. "
      ]
    },
    {
      "cell_type": "markdown",
      "metadata": {
        "id": "211pD45xEO0u",
        "colab_type": "text"
      },
      "source": [
        "## **Note :**   Use only the methods and attributes of the ```numpy``` library. **Do not** hard-code them. Avoid loops as much as possible."
      ]
    },
    {
      "cell_type": "markdown",
      "metadata": {
        "id": "O7v9C4mun3SQ",
        "colab_type": "text"
      },
      "source": [
        "---\n",
        "## Part - 1\n",
        " In this part, you will work with the library ```numpy```. \n",
        "\n",
        "\n"
      ]
    },
    {
      "cell_type": "markdown",
      "metadata": {
        "id": "846yDaXQwiMD",
        "colab_type": "text"
      },
      "source": [
        "Import ```numpy``` with an alias name ```np```. Initialize two arrays $a$, $b$ of size $3 \\times 5$ with random values and print them. "
      ]
    },
    {
      "cell_type": "code",
      "metadata": {
        "id": "_MyeCO3_o3oq",
        "colab_type": "code",
        "outputId": "8f94e10b-b1f7-4073-f76e-d1eae83e15f6",
        "colab": {
          "base_uri": "https://localhost:8080/",
          "height": 161
        }
      },
      "source": [
        "import numpy as np                                                              #Import numpy\n",
        "a,b = np.random.randn(3,5),np.random.randn(3,5)                                 #Initialize two array a,b \n",
        "print(\"a = \\n\",a,\"\\nb = \\n\",b)                                                  #Print a and b    "
      ],
      "execution_count": 83,
      "outputs": [
        {
          "output_type": "stream",
          "text": [
            "a = \n",
            " [[-0.25460487  1.17586214  1.01569679  0.22523114 -0.10223833]\n",
            " [-2.29795369 -0.55739972 -0.14557134 -0.2051393  -2.79759393]\n",
            " [ 0.11677073 -0.68933564 -0.43435696 -0.22133669  0.77039526]] \n",
            "b = \n",
            " [[ 2.59642152 -0.21083547 -1.75221998  1.55118411  0.38267196]\n",
            " [-0.59314425  1.57762591 -0.34296288  1.18172805  1.41857597]\n",
            " [-0.62385062 -1.53957649 -0.83954951  0.67287858 -0.96731324]]\n"
          ],
          "name": "stdout"
        }
      ]
    },
    {
      "cell_type": "markdown",
      "metadata": {
        "id": "p7jtpYT4wiO6",
        "colab_type": "text"
      },
      "source": [
        "Initialize and print two arrays $c$ and $d$ having the following properties:\n",
        "*   $c$ is a row vector with all non-negative integer values less than 100\n",
        "* $d$ is a square matrix of size 3 having all entries as 0.0"
      ]
    },
    {
      "cell_type": "code",
      "metadata": {
        "id": "a2lJdRf8x9f2",
        "colab_type": "code",
        "outputId": "026d59dd-5fa8-4e20-8356-0586d9f9bd06",
        "colab": {
          "base_uri": "https://localhost:8080/",
          "height": 197
        }
      },
      "source": [
        "c = np.random.randint(100,size=100)                                             #Row vector with nonzero values less than 100\n",
        "d = np.zeros((3,3))                                                             #All entries 0 matrix of size 3\n",
        "print(\"c = \\n\",c,\"\\nd = \\n\",d)                                                  #Print c and d  "
      ],
      "execution_count": 84,
      "outputs": [
        {
          "output_type": "stream",
          "text": [
            "c = \n",
            " [75 38 17 25  1 89  2 68 63 96 91 25 63  1 62 15 75 63 19 44 54 44 48 64\n",
            " 80 51 57 27 69 13 85 79 52  1 17 12 15 70 57 85  8 86 70 73 71 93 17 95\n",
            " 57 98 43 71 87 14 80 99 82 13 62 62 62 54  0 70 25 80 53 72 99 67 61 93\n",
            "  5 35 28 73 41 30 18 38  1 45 22 26  4 48 78 41 88 20 41 99 63 56 63 76\n",
            " 43  9 19 73] \n",
            "d = \n",
            " [[0. 0. 0.]\n",
            " [0. 0. 0.]\n",
            " [0. 0. 0.]]\n"
          ],
          "name": "stdout"
        }
      ]
    },
    {
      "cell_type": "markdown",
      "metadata": {
        "id": "qqgtSsa88Zmh",
        "colab_type": "text"
      },
      "source": [
        "We have $e$ as following : ```e = [[1,2,3],[4,5,6],[7,8,9]]```. Change $e$ as a numpy array and print it."
      ]
    },
    {
      "cell_type": "code",
      "metadata": {
        "id": "Krhm4bVE7RET",
        "colab_type": "code",
        "outputId": "2b8d411a-ebbe-460a-8258-d3e99d85164d",
        "colab": {
          "base_uri": "https://localhost:8080/",
          "height": 89
        }
      },
      "source": [
        "e = [[1,2,3],[4,5,6],[7,8,9]]                                                   #As given\n",
        "e = np.asarray(e)                                                               #Changed into numpy array      \n",
        "print(\"e = \\n\",e)                                                               #Print numpy array"
      ],
      "execution_count": 85,
      "outputs": [
        {
          "output_type": "stream",
          "text": [
            "e = \n",
            " [[1 2 3]\n",
            " [4 5 6]\n",
            " [7 8 9]]\n"
          ],
          "name": "stdout"
        }
      ]
    },
    {
      "cell_type": "markdown",
      "metadata": {
        "id": "1qTikI0foam9",
        "colab_type": "text"
      },
      "source": [
        "$f$ and $g$ are two square matrices of size 5 such that all the entries of $f$ are 1 and $g$ is an identity matrix. Initialize them and print them"
      ]
    },
    {
      "cell_type": "code",
      "metadata": {
        "id": "DvaLckI49aBV",
        "colab_type": "code",
        "outputId": "6c1db6a8-2f74-42b4-9e7a-39aca3a4d17a",
        "colab": {
          "base_uri": "https://localhost:8080/",
          "height": 233
        }
      },
      "source": [
        "f = np.ones((5,5))                                                              #Square matrix of size 5 with all 1s      \n",
        "g = np.eye(5)                                                                   #Identity of size 5    \n",
        "print(\"f = \\n\",f,\"\\ng = \\n\",g)                                                  #Print f nad g    "
      ],
      "execution_count": 86,
      "outputs": [
        {
          "output_type": "stream",
          "text": [
            "f = \n",
            " [[1. 1. 1. 1. 1.]\n",
            " [1. 1. 1. 1. 1.]\n",
            " [1. 1. 1. 1. 1.]\n",
            " [1. 1. 1. 1. 1.]\n",
            " [1. 1. 1. 1. 1.]] \n",
            "g = \n",
            " [[1. 0. 0. 0. 0.]\n",
            " [0. 1. 0. 0. 0.]\n",
            " [0. 0. 1. 0. 0.]\n",
            " [0. 0. 0. 1. 0.]\n",
            " [0. 0. 0. 0. 1.]]\n"
          ],
          "name": "stdout"
        }
      ]
    },
    {
      "cell_type": "markdown",
      "metadata": {
        "id": "gcBZAZibAKcg",
        "colab_type": "text"
      },
      "source": [
        "Reshape $c$ into a $10 \\times 10$ matrix and name it $h$. Now flatten $h$, call it $c^\\prime$ and print **YES** when the shapes of $c$ and $c^\\prime$ are same. Otherwise print **NO**."
      ]
    },
    {
      "cell_type": "code",
      "metadata": {
        "id": "I71vtO9bA9Pi",
        "colab_type": "code",
        "outputId": "d0ff3716-5bdd-4504-c71f-1e68a2410a4e",
        "colab": {
          "base_uri": "https://localhost:8080/",
          "height": 35
        }
      },
      "source": [
        "h = np.reshape(c,(10,10))                                                       #Reshape c into a 10×10 matrix and name it h     \n",
        "c_dash = np.ndarray.flatten(h)                                                  #c' as flatten h\n",
        "if np.shape(c) == np.shape(c_dash):\n",
        "  print(\"YES\")                                                                  #if c and c' area same\n",
        "else:\n",
        "  print(\"NO\")\n"
      ],
      "execution_count": 87,
      "outputs": [
        {
          "output_type": "stream",
          "text": [
            "YES\n"
          ],
          "name": "stdout"
        }
      ]
    },
    {
      "cell_type": "markdown",
      "metadata": {
        "id": "8FrecDPiA-Bv",
        "colab_type": "text"
      },
      "source": [
        "Let $A$ denote a randomly initialized three dimensional matrix of shape (2,10,5). Transpose $A$, call it $A^\\prime$, such that its shape is (5,2,10) and print it."
      ]
    },
    {
      "cell_type": "code",
      "metadata": {
        "id": "VbOKqSm6Bkaq",
        "colab_type": "code",
        "outputId": "2bccf881-4cf4-4a98-cea9-59653fe8230f",
        "colab": {
          "base_uri": "https://localhost:8080/",
          "height": 683
        }
      },
      "source": [
        "A = np.random.randn(2,10,5)\n",
        "A_transpose = np.transpose(A,(2,0,1))                                           #Transpose in desired shape\n",
        "print(\"A_transpose = \\n\",A_transpose,\"\\n\\nShape of A' is : \",np.shape(A_transpose))"
      ],
      "execution_count": 88,
      "outputs": [
        {
          "output_type": "stream",
          "text": [
            "A_transpose = \n",
            " [[[-1.48595345e-01 -2.08430841e+00 -3.77826140e-01 -4.71831227e-01\n",
            "    1.36082712e+00  1.45111242e+00 -1.30979239e-01  4.65284950e-01\n",
            "   -5.76089266e-01  1.71737573e-01]\n",
            "  [-1.54982108e+00 -1.40921254e+00 -8.65908611e-02  1.43564150e+00\n",
            "    7.34074071e-01  1.02503751e+00 -1.24955494e+00 -3.44496751e-01\n",
            "    9.46558776e-01  4.08570655e-01]]\n",
            "\n",
            " [[-8.03832397e-01 -1.22742881e+00  1.40329619e-01 -3.45989795e-02\n",
            "   -3.02450585e-01  2.99360896e-01 -5.27822325e-01 -9.10890654e-04\n",
            "   -8.24630740e-01 -1.95970500e-01]\n",
            "  [ 1.42517370e-01  3.01491303e-02 -2.67495307e-01  9.43699351e-01\n",
            "    1.46436374e+00  4.83581100e-01 -1.51355153e-01  1.01583187e+00\n",
            "   -1.74119429e-01 -2.28343879e-01]]\n",
            "\n",
            " [[ 6.80063193e-01 -7.27843013e-01 -1.36586014e+00 -4.80695692e-01\n",
            "    1.12700207e+00 -6.48432586e-01  1.10012203e-01 -1.85761804e+00\n",
            "    1.57513883e+00  8.39096555e-01]\n",
            "  [-8.25537497e-01  1.77388386e+00  1.91966026e+00  7.45012037e-01\n",
            "    1.28346215e+00 -1.55342256e+00 -9.37626853e-01  8.75060438e-01\n",
            "    3.83811030e-01 -1.48036001e+00]]\n",
            "\n",
            " [[ 6.93127490e-01  2.90809863e-02 -5.56900469e-01  1.57634479e+00\n",
            "   -8.80721452e-04  9.26298922e-01  1.18359164e+00  5.81748052e-01\n",
            "   -1.83949211e+00  6.20360174e-01]\n",
            "  [ 3.30253104e-02  3.31631832e-01 -1.59640114e-01 -4.39475802e-01\n",
            "   -5.21784387e-01  7.08659771e-01  3.38503473e-01  4.58793260e-02\n",
            "   -4.22768679e-01  3.97045113e-01]]\n",
            "\n",
            " [[-9.50378256e-01 -7.98408811e-02 -5.79469815e-01 -3.44966758e-01\n",
            "   -5.33556220e-01  8.20755287e-01  1.01361768e-01 -1.49893762e+00\n",
            "    1.76227883e+00  2.68588974e-01]\n",
            "  [-1.86745915e+00  3.81035605e-01  3.19196085e-01 -2.49337001e-01\n",
            "    6.20220387e-01 -1.11655285e-01  1.16559540e-01 -2.47841248e-01\n",
            "   -4.54812340e-01 -1.49821330e+00]]] \n",
            "\n",
            "Shape of A' is :  (5, 2, 10)\n"
          ],
          "name": "stdout"
        }
      ]
    },
    {
      "cell_type": "markdown",
      "metadata": {
        "id": "xR2zd-nkCani",
        "colab_type": "text"
      },
      "source": [
        "You have a matrix $X$ of size (10,5) filled with random values. Print the following :\n",
        "* Minimum value and index where it occured, for each column\n",
        "* Maximum value and the index where it occured, for each column\n",
        "* Minimum value and index where it occured, for each row\n",
        "* Maximum value and index where it occured, for each row\n",
        "* Minimum value and index where it occured, for the entire matrix\n",
        "* Maximum value and index where it occured, for the entire matrix"
      ]
    },
    {
      "cell_type": "code",
      "metadata": {
        "id": "FR2Wd4fWD_Og",
        "colab_type": "code",
        "outputId": "cd657cc6-7559-4db7-ab40-9a435793b28f",
        "colab": {
          "base_uri": "https://localhost:8080/",
          "height": 269
        }
      },
      "source": [
        "X = np.random.randn(10,5)\n",
        "print(\"Min Value for each column : \", np.amin(X, axis=0) , \"\\nIndex : \", np.argmin(X,axis=0))\n",
        "print(\"Max Value for each column : \", np.amax(X, axis=0) , \"\\nIndex : \", np.argmax(X,axis=0))\n",
        "print(\"Min Value for each row    : \", np.amin(X, axis=1) , \"\\nIndex : \", np.argmin(X,axis=1))\n",
        "print(\"Max Value for each row    : \", np.amax(X, axis=1) , \"\\nIndex : \", np.argmax(X,axis=1))\n",
        "print(\"Max Value for whole matrix: \", np.min(X)          , \"\\nIndex : \", np.argmin(X))\n",
        "print(\"Max Value for whole matrix: \", np.max(X)          , \"\\nIndex : \", np.argmin(X))"
      ],
      "execution_count": 89,
      "outputs": [
        {
          "output_type": "stream",
          "text": [
            "Min Value for each column :  [-1.5220647  -1.78030042 -2.28129565 -1.40454942 -1.86276318] \n",
            "Index :  [2 5 4 0 1]\n",
            "Max Value for each column :  [2.20817806 1.8419431  1.55732027 0.83178051 1.01004034] \n",
            "Index :  [1 4 7 6 3]\n",
            "Min Value for each row    :  [-1.40454942 -1.86276318 -1.5220647  -1.11649375 -2.28129565 -1.78030042\n",
            " -1.1186276  -0.81731675 -1.1287642  -1.01184543] \n",
            "Index :  [3 4 0 2 2 1 1 3 3 2]\n",
            "Max Value for each row    :  [ 0.88234902  2.20817806  0.32887147  1.01004034  1.8419431  -0.09818819\n",
            "  0.83178051  1.90301415  1.4461244   0.63913667] \n",
            "Index :  [1 0 1 4 1 4 3 0 1 4]\n",
            "Max Value for whole matrix:  -2.2812956515557223 \n",
            "Index :  22\n",
            "Max Value for whole matrix:  2.2081780586635706 \n",
            "Index :  22\n"
          ],
          "name": "stdout"
        }
      ]
    },
    {
      "cell_type": "markdown",
      "metadata": {
        "id": "YpjW2ypkEGtS",
        "colab_type": "text"
      },
      "source": [
        "Find and print the following for the matrix X: \n",
        "* Mean of each row and column\n",
        "* Standard deviation of each row and column\n",
        "* Mean of the entire matrix\n",
        "* Standard deviation of entire matrix"
      ]
    },
    {
      "cell_type": "code",
      "metadata": {
        "id": "gMdm2pw0GWjf",
        "colab_type": "code",
        "outputId": "f85d9146-8120-4dcc-b67d-3a7e04925d64",
        "colab": {
          "base_uri": "https://localhost:8080/",
          "height": 179
        }
      },
      "source": [
        "print(\"Mean of each column : \",np.mean(X, axis=0))\n",
        "print(\"Mean of each row    : \",np.mean(X, axis=1))\n",
        "print(\"Mean of matrix      : \",np.mean(X),\"\\n\")\n",
        "\n",
        "print(\"Standard deviation of each column : \",np.std(X, axis=0))\n",
        "print(\"Standard deviation of each row    : \",np.std(X, axis=1))\n",
        "print(\"Standard deviation of matrix      : \",np.std(X))"
      ],
      "execution_count": 90,
      "outputs": [
        {
          "output_type": "stream",
          "text": [
            "Mean of each column :  [ 0.27435307  0.06221317 -0.39864741 -0.50499643 -0.06525354]\n",
            "Mean of each row    :  [-0.40016123 -0.25875094 -0.48641331 -0.21767104 -0.07663657 -0.83088248\n",
            "  0.07668086  0.69863709  0.2250496   0.00548572]\n",
            "Mean of matrix      :  -0.12646622815292985 \n",
            "\n",
            "Standard deviation of each column :  [1.05774329 1.11285424 1.05416001 0.6027222  0.88909943]\n",
            "Standard deviation of each row    :  [0.75151792 1.38789179 0.71522726 0.78000049 1.35082191 0.66283264\n",
            " 0.66173759 0.97206452 0.94811736 0.57492339]\n",
            "Standard deviation of matrix      :  1.0039582975223293\n"
          ],
          "name": "stdout"
        }
      ]
    },
    {
      "cell_type": "markdown",
      "metadata": {
        "id": "7dw7W8HOGXKA",
        "colab_type": "text"
      },
      "source": [
        "Let $Y$ denote a square matrix of size 10 with random values. Print the following:\n",
        "* Determinant\n",
        "* Rank of the matrix\n",
        "* Diagonal Elements\n",
        "* Trace\n",
        "* Eigen values\n",
        "* Matrices obtained after Singular Value Decomposition\n",
        "* Inverse if exists, otherwise Pseudo-Inverse\n",
        "* Multiplication $Y$ with $X$\n",
        "* Element-wise multiplication of $Y$ and its inverse(or pseudo-inverse)"
      ]
    },
    {
      "cell_type": "code",
      "metadata": {
        "id": "Tswbn9hgL7yi",
        "colab_type": "code",
        "outputId": "fe8f88c5-690e-4072-c743-b8e4817d3bde",
        "colab": {
          "base_uri": "https://localhost:8080/",
          "height": 1000
        }
      },
      "source": [
        "Y = np.random.randn(10,10)\n",
        "print(\"Determinant = \",       np.linalg.det(Y))\n",
        "print(\"Rank = \",              np.linalg.matrix_rank(Y))\n",
        "print(\"Diagonal elements = \", np.diagonal(Y))\n",
        "print(\"Trace = \",             np.trace(Y))\n",
        "print(\"Eigen values = \",      np.linalg.eig(Y))\n",
        "print(\"SVD = \",               np.linalg.svd(Y))\n",
        "print(\"Inverse = \",           np.linalg.pinv(Y))\n",
        "print(\"Multiplication = \",    np.matmul(Y,X))\n",
        "print(\"Element-wise multiplication of  Y  and its inverse = \",np.dot(Y,np.linalg.pinv(Y)))"
      ],
      "execution_count": 91,
      "outputs": [
        {
          "output_type": "stream",
          "text": [
            "Determinant =  -365.2110790559095\n",
            "Rank =  10\n",
            "Diagonal elements =  [-1.63131564 -0.64725449 -1.3547967   0.81702294 -0.74298142  0.06721695\n",
            " -0.33456131  0.65519318  0.59886335  0.64141246]\n",
            "Trace =  -1.9312006686040188\n",
            "Eigen values =  (array([-2.61201861+1.90492949j, -2.61201861-1.90492949j,\n",
            "        2.2808369 +0.j        ,  1.48386985+1.59101808j,\n",
            "        1.48386985-1.59101808j,  0.27592818+2.52028317j,\n",
            "        0.27592818-2.52028317j, -0.40904224+0.j        ,\n",
            "       -1.04927709+0.36065855j, -1.04927709-0.36065855j]), array([[ 0.53361733+0.j        ,  0.53361733-0.j        ,\n",
            "        -0.11023472+0.j        ,  0.14182972-0.41355571j,\n",
            "         0.14182972+0.41355571j, -0.16482078+0.07356265j,\n",
            "        -0.16482078-0.07356265j, -0.12522409+0.j        ,\n",
            "        -0.26188955-0.09336062j, -0.26188955+0.09336062j],\n",
            "       [-0.17945542-0.41892903j, -0.17945542+0.41892903j,\n",
            "        -0.39102325+0.j        , -0.37573962-0.05811113j,\n",
            "        -0.37573962+0.05811113j,  0.26787681-0.05458824j,\n",
            "         0.26787681+0.05458824j, -0.34966417+0.j        ,\n",
            "         0.14827748-0.16317813j,  0.14827748+0.16317813j],\n",
            "       [ 0.03613424+0.17557606j,  0.03613424-0.17557606j,\n",
            "        -0.20594378+0.j        ,  0.02992411-0.04781644j,\n",
            "         0.02992411+0.04781644j,  0.03211094+0.09477394j,\n",
            "         0.03211094-0.09477394j, -0.13365272+0.j        ,\n",
            "         0.23982255-0.08802172j,  0.23982255+0.08802172j],\n",
            "       [ 0.08985921-0.32544069j,  0.08985921+0.32544069j,\n",
            "         0.14137506+0.j        ,  0.46287836+0.j        ,\n",
            "         0.46287836-0.j        , -0.19770121+0.34449616j,\n",
            "        -0.19770121-0.34449616j,  0.43430149+0.j        ,\n",
            "         0.18464293+0.09846078j,  0.18464293-0.09846078j],\n",
            "       [ 0.22752293-0.06388998j,  0.22752293+0.06388998j,\n",
            "        -0.1689051 +0.j        ,  0.01447044+0.06055727j,\n",
            "         0.01447044-0.06055727j,  0.16637074-0.30782868j,\n",
            "         0.16637074+0.30782868j,  0.24749868+0.j        ,\n",
            "         0.34741294+0.1958665j ,  0.34741294-0.1958665j ],\n",
            "       [-0.22330283+0.1375942j , -0.22330283-0.1375942j ,\n",
            "        -0.16311187+0.j        ,  0.04513683-0.28565096j,\n",
            "         0.04513683+0.28565096j, -0.08709163-0.0440568j ,\n",
            "        -0.08709163+0.0440568j , -0.30137506+0.j        ,\n",
            "        -0.38393902-0.27066288j, -0.38393902+0.27066288j],\n",
            "       [-0.22688399-0.06815701j, -0.22688399+0.06815701j,\n",
            "        -0.09110731+0.j        , -0.05088013-0.0805186j ,\n",
            "        -0.05088013+0.0805186j , -0.16406918+0.02156702j,\n",
            "        -0.16406918-0.02156702j, -0.03217784+0.j        ,\n",
            "         0.21034737+0.0983217j ,  0.21034737-0.0983217j ],\n",
            "       [-0.14768913-0.27343778j, -0.14768913+0.27343778j,\n",
            "         0.75847061+0.j        ,  0.30709949+0.34340943j,\n",
            "         0.30709949-0.34340943j, -0.56731032+0.j        ,\n",
            "        -0.56731032-0.j        ,  0.33406159+0.j        ,\n",
            "         0.47555204+0.j        ,  0.47555204-0.j        ],\n",
            "       [ 0.15074971-0.13868766j,  0.15074971+0.13868766j,\n",
            "        -0.25108768+0.j        , -0.07832976-0.2079793j ,\n",
            "        -0.07832976+0.2079793j ,  0.13523862+0.4178424j ,\n",
            "         0.13523862-0.4178424j ,  0.54890361+0.j        ,\n",
            "         0.06936293+0.2329151j ,  0.06936293-0.2329151j ],\n",
            "       [-0.17930973-0.09984558j, -0.17930973+0.09984558j,\n",
            "         0.26606715+0.j        ,  0.22369096-0.19649292j,\n",
            "         0.22369096+0.19649292j,  0.22513636-0.01231096j,\n",
            "         0.22513636+0.01231096j,  0.29927046+0.j        ,\n",
            "         0.13757671+0.16509452j,  0.13757671-0.16509452j]]))\n",
            "SVD =  (array([[-0.65931537,  0.01813616, -0.00986088,  0.23665122, -0.41811863,\n",
            "        -0.44203514, -0.1509131 , -0.20996884, -0.18183282,  0.19679983],\n",
            "       [ 0.11598873, -0.54983592,  0.36573162,  0.12633847,  0.35134179,\n",
            "        -0.24802355,  0.22695323, -0.53696866,  0.00251932,  0.09848784],\n",
            "       [-0.23309722,  0.39676498, -0.13213816, -0.14985539,  0.33349714,\n",
            "         0.44777608, -0.11478294, -0.59424561, -0.22468192,  0.14077432],\n",
            "       [-0.21518976,  0.30943474,  0.11241753,  0.64992907,  0.3690209 ,\n",
            "         0.06747133,  0.22939824,  0.20695695,  0.39602864,  0.17284614],\n",
            "       [-0.05350048, -0.18920753, -0.40414984,  0.35231568, -0.24401939,\n",
            "         0.28312402,  0.52913402, -0.15775216, -0.19965908, -0.43524453],\n",
            "       [-0.09124724,  0.32120073, -0.2373091 , -0.27541838,  0.27615302,\n",
            "        -0.56774354,  0.18153815, -0.14485359,  0.2443805 , -0.49404397],\n",
            "       [ 0.03812123,  0.26969649,  0.20035157, -0.17121559,  0.0881621 ,\n",
            "        -0.17933668,  0.57114522,  0.25556041, -0.59655095,  0.26273527],\n",
            "       [ 0.4772623 ,  0.44278529,  0.36679903,  0.37909066, -0.25456247,\n",
            "        -0.11758083, -0.19807716, -0.25977834, -0.18221142, -0.28171437],\n",
            "       [-0.36653512, -0.16308882,  0.33507495,  0.06628761,  0.34665198,\n",
            "         0.11084877, -0.28095763,  0.28770025, -0.36938149, -0.54016518],\n",
            "       [ 0.27647791, -0.09908014, -0.57396407,  0.32522328,  0.35467004,\n",
            "        -0.27796973, -0.32031432,  0.10091117, -0.36675267,  0.16789371]]), array([6.68812893, 4.44577977, 3.74542491, 3.40981649, 2.95389777,\n",
            "       2.23335544, 1.37369807, 1.19237223, 0.67801041, 0.13127029]), array([[ 3.12792366e-01,  1.97660270e-01, -2.82000612e-01,\n",
            "        -2.79166586e-01, -2.12725424e-01, -6.15877900e-01,\n",
            "        -5.10947769e-01,  1.05424723e-01, -3.77325104e-02,\n",
            "         8.64268154e-02],\n",
            "       [-3.66702043e-02, -3.95038220e-02, -6.91426337e-01,\n",
            "         2.41445218e-01,  3.98268663e-01,  3.00834387e-02,\n",
            "         3.71017459e-02,  2.47850094e-02, -5.37064821e-01,\n",
            "        -1.03808340e-01],\n",
            "       [ 2.78006663e-01, -3.02239524e-01, -1.44994552e-01,\n",
            "        -6.17976027e-01,  3.15113739e-01,  1.03202159e-01,\n",
            "         2.01126495e-01,  3.06808222e-01,  2.47327474e-01,\n",
            "        -3.50348954e-01],\n",
            "       [-1.98175305e-01, -7.43782027e-01,  2.60655223e-01,\n",
            "        -9.26455205e-02, -1.23387741e-01, -1.65505161e-01,\n",
            "        -2.79576463e-01, -1.32771472e-01, -4.00533266e-01,\n",
            "        -1.79320538e-01],\n",
            "       [ 5.13179635e-01, -3.57240344e-02,  1.12566580e-01,\n",
            "         4.40309610e-01, -1.18144182e-01, -3.24269235e-01,\n",
            "         3.10618682e-01, -1.67532475e-01,  3.16041581e-02,\n",
            "        -5.33074258e-01],\n",
            "       [-5.20346075e-01,  5.03135006e-02, -4.12360018e-01,\n",
            "        -4.16957748e-02, -4.71943830e-01,  2.22018445e-02,\n",
            "         6.74137189e-04, -7.59358172e-02,  2.87147379e-01,\n",
            "        -4.93441964e-01],\n",
            "       [-3.55662194e-02,  1.07667945e-01,  8.65991085e-02,\n",
            "         8.62228612e-02,  5.32322234e-01,  7.97753881e-02,\n",
            "        -5.54981050e-01, -4.38519138e-01,  3.17550964e-01,\n",
            "        -2.85194989e-01],\n",
            "       [ 9.60664052e-02,  1.97029383e-01,  2.10477332e-01,\n",
            "         1.94595104e-01, -1.24078958e-01,  3.71072052e-01,\n",
            "        -3.99121221e-01,  6.23863343e-01, -2.06007105e-01,\n",
            "        -3.54613176e-01],\n",
            "       [-4.84453782e-01,  2.64164566e-01,  3.02116899e-01,\n",
            "        -4.15580674e-02,  3.65689121e-01, -5.45751729e-01,\n",
            "         2.03913318e-01,  2.96057469e-01, -9.02049858e-02,\n",
            "        -1.83245281e-01],\n",
            "       [-7.03741646e-02, -4.36813342e-01, -1.66294787e-01,\n",
            "         4.80263326e-01,  1.11483883e-01, -1.84931786e-01,\n",
            "        -1.16508348e-01,  4.16561969e-01,  5.03659545e-01,\n",
            "         2.41940766e-01]]))\n",
            "Inverse =  [[-0.00371138  0.04485116 -0.02149512 -0.35855532  0.18981257  0.24560097\n",
            "   0.37267906  0.27245226  0.62358698  0.26709199]\n",
            " [-0.84761065 -0.45628075 -0.62417855 -0.53157583  1.35112101  1.78702795\n",
            "  -1.00490303  0.70629557  1.62647148 -0.7361296 ]\n",
            " [-0.26777582 -0.0688166  -0.51876879  0.01638153  0.48060245  0.77800601\n",
            "  -0.54546245  0.15514463  0.57842478 -0.26282088]\n",
            " [ 0.65704454  0.24530624  0.52312353  0.69959876 -1.56526535 -1.71507191\n",
            "   1.07650081 -1.1767796  -1.92532252  0.76009685]\n",
            " [ 0.15576683  0.2404376  -0.05496799  0.41923883 -0.36793496 -0.07174136\n",
            "   0.17648081 -0.31059603 -0.81123494 -0.22302278]\n",
            " [-0.11441026 -0.34619447 -0.21344198 -0.53092922  0.76052556  0.4462025\n",
            "   0.22342924  0.42872585  1.1332333  -0.02794196]\n",
            " [-0.1116165   0.03409561  0.11428102 -0.18565973  0.09162687  0.53548664\n",
            "  -0.69554069  0.29125781  0.46122045 -0.20590846]\n",
            " [ 0.50185576 -0.0274555   0.033747    0.71548771 -1.76431052 -1.59950866\n",
            "   0.55092285 -1.00250743 -1.64043969  0.4611466 ]\n",
            " [ 0.69243896  0.56972872  0.66955299  0.53529807 -1.50493892 -1.95272315\n",
            "   1.15374099 -1.15188172 -2.08395205  0.50385204]\n",
            " [ 0.65828993  0.2582933   0.36958918 -0.03384468 -0.80667847 -0.86761189\n",
            "   0.45906078 -0.3380929  -1.04577124  0.48493362]]\n",
            "Multiplication =  [[-5.36573648e+00 -4.50509584e+00 -8.29448202e+00  2.40235697e+00\n",
            "   2.73493767e+00]\n",
            " [-5.75542668e+00  5.98548166e+00  4.08920281e+00 -1.35521569e+00\n",
            "  -2.10625287e+00]\n",
            " [ 1.22192248e+00 -4.22297687e+00 -3.12459562e+00  1.67311777e+00\n",
            "   2.13602291e+00]\n",
            " [-4.58611795e+00  1.45458845e-01 -2.08311470e+00  2.42755096e+00\n",
            "   2.33044243e+00]\n",
            " [-4.61060049e+00 -1.16352471e+00 -6.62146914e-01  1.96675915e+00\n",
            "   6.44112849e-01]\n",
            " [ 2.89016504e+00 -5.24968430e-01 -6.33558742e+00 -1.58870464e+00\n",
            "  -6.56200718e-01]\n",
            " [ 2.01886427e+00  1.80907314e+00 -3.18519024e+00 -2.27859906e+00\n",
            "  -6.71654046e-03]\n",
            " [ 3.30422011e+00  5.30455671e+00  2.91689170e+00  1.28812055e+00\n",
            "   1.36246973e+00]\n",
            " [-4.31516577e+00 -2.28098229e+00  6.95652682e-02  1.94167384e-01\n",
            "   3.22855291e-01]\n",
            " [-1.54461243e+00  7.91067807e-01  1.99323001e+00 -1.28977489e-01\n",
            "  -1.18814258e+00]]\n",
            "Element-wise multiplication of  Y  and its inverse(or pseudo-inverse) =  [[ 1.00000000e+00 -5.53998895e-16  3.52575905e-16  1.56701462e-16\n",
            "  -1.43555223e-15 -1.15089061e-15  8.98362488e-16 -1.82309872e-15\n",
            "  -1.52576036e-15  3.02179415e-16]\n",
            " [-2.65240935e-16  1.00000000e+00 -3.86427326e-16 -3.45487946e-16\n",
            "   1.47344619e-16  3.31701044e-16  3.78606867e-16  5.64900616e-17\n",
            "   4.03149362e-16 -4.54145442e-16]\n",
            " [ 2.55028483e-16 -2.46285682e-16  1.00000000e+00 -3.12129402e-16\n",
            "  -7.13859175e-17  9.06980098e-17  3.85293413e-16  7.03394752e-17\n",
            "   8.52593086e-16  1.54819070e-16]\n",
            " [ 9.73185689e-16 -1.95305734e-16  7.02687718e-16  1.00000000e+00\n",
            "  -2.55480094e-16  4.19282993e-16 -9.22351192e-16 -2.62876828e-16\n",
            "   5.41305363e-16 -5.20952566e-16]\n",
            " [-4.49124294e-16 -2.11749614e-16  1.56605577e-16 -4.61303420e-16\n",
            "   1.00000000e+00  7.87313661e-16 -1.52714626e-16  3.46701204e-16\n",
            "   6.85858031e-16 -3.73668067e-16]\n",
            " [-5.08215487e-16 -2.79603942e-16 -3.16343605e-16 -5.79581919e-16\n",
            "   2.48262126e-15  1.00000000e+00 -1.57039071e-15  1.32001711e-15\n",
            "   2.43475562e-15 -8.76830048e-16]\n",
            " [-6.34789147e-17  3.74476473e-16  2.18272825e-16 -5.46194650e-16\n",
            "   1.16490557e-15  1.33407183e-15  1.00000000e+00  9.90619881e-16\n",
            "   8.49693514e-16 -3.44303505e-16]\n",
            " [-5.43679471e-16 -9.95455009e-17 -6.33257709e-16 -3.04506155e-16\n",
            "   7.33114435e-16  1.95377535e-15 -1.07628508e-15  1.00000000e+00\n",
            "  -2.20278361e-16 -5.29180448e-16]\n",
            " [ 9.35458308e-16  4.36941906e-19  5.79941260e-16  2.41720176e-16\n",
            "  -1.78750142e-15 -2.30215767e-15  1.21623066e-15 -1.23421703e-15\n",
            "   1.00000000e+00  5.44350141e-16]\n",
            " [-2.52346123e-16 -8.14835304e-16 -2.56159653e-17 -4.13634734e-16\n",
            "   4.96565371e-16 -6.75697144e-17  6.21658148e-16  2.48888654e-17\n",
            "   4.04776836e-16  1.00000000e+00]]\n"
          ],
          "name": "stdout"
        }
      ]
    },
    {
      "cell_type": "markdown",
      "metadata": {
        "id": "Qne3RnfOL6-4",
        "colab_type": "text"
      },
      "source": [
        "## End of Part - 1\n",
        " --- --- ---"
      ]
    },
    {
      "cell_type": "markdown",
      "metadata": {
        "id": "LA-m4UYkMPTe",
        "colab_type": "text"
      },
      "source": [
        "## Part - 2\n",
        "---\n",
        "In this part, you will be working with the library ```pandas```. Import this library with an alias name ```pd```."
      ]
    },
    {
      "cell_type": "code",
      "metadata": {
        "id": "i8z7TpnZSIms",
        "colab_type": "code",
        "colab": {}
      },
      "source": [
        "import pandas as pd"
      ],
      "execution_count": 0,
      "outputs": []
    },
    {
      "cell_type": "markdown",
      "metadata": {
        "id": "2v-HkHnyuQ3X",
        "colab_type": "text"
      },
      "source": [
        "Download dataset from: http://biostat.mc.vanderbilt.edu/wiki/pub/Main/DataSets/titanic3.csv\n",
        "Read the data and display the first 5 rows"
      ]
    },
    {
      "cell_type": "code",
      "metadata": {
        "id": "LinX5ywNTUIm",
        "colab_type": "code",
        "outputId": "7b37be24-c397-409b-caf0-e1f0b3e9f87c",
        "colab": {
          "base_uri": "https://localhost:8080/",
          "height": 204
        }
      },
      "source": [
        "titanic = pd.read_csv('http://biostat.mc.vanderbilt.edu/wiki/pub/Main/DataSets/titanic3.csv')\n",
        "pd.DataFrame.head(titanic)"
      ],
      "execution_count": 93,
      "outputs": [
        {
          "output_type": "execute_result",
          "data": {
            "text/html": [
              "<div>\n",
              "<style scoped>\n",
              "    .dataframe tbody tr th:only-of-type {\n",
              "        vertical-align: middle;\n",
              "    }\n",
              "\n",
              "    .dataframe tbody tr th {\n",
              "        vertical-align: top;\n",
              "    }\n",
              "\n",
              "    .dataframe thead th {\n",
              "        text-align: right;\n",
              "    }\n",
              "</style>\n",
              "<table border=\"1\" class=\"dataframe\">\n",
              "  <thead>\n",
              "    <tr style=\"text-align: right;\">\n",
              "      <th></th>\n",
              "      <th>pclass</th>\n",
              "      <th>survived</th>\n",
              "      <th>name</th>\n",
              "      <th>sex</th>\n",
              "      <th>age</th>\n",
              "      <th>sibsp</th>\n",
              "      <th>parch</th>\n",
              "      <th>ticket</th>\n",
              "      <th>fare</th>\n",
              "      <th>cabin</th>\n",
              "      <th>embarked</th>\n",
              "      <th>boat</th>\n",
              "      <th>body</th>\n",
              "      <th>home.dest</th>\n",
              "    </tr>\n",
              "  </thead>\n",
              "  <tbody>\n",
              "    <tr>\n",
              "      <th>0</th>\n",
              "      <td>1</td>\n",
              "      <td>1</td>\n",
              "      <td>Allen, Miss. Elisabeth Walton</td>\n",
              "      <td>female</td>\n",
              "      <td>29.00</td>\n",
              "      <td>0</td>\n",
              "      <td>0</td>\n",
              "      <td>24160</td>\n",
              "      <td>211.3375</td>\n",
              "      <td>B5</td>\n",
              "      <td>S</td>\n",
              "      <td>2</td>\n",
              "      <td>NaN</td>\n",
              "      <td>St Louis, MO</td>\n",
              "    </tr>\n",
              "    <tr>\n",
              "      <th>1</th>\n",
              "      <td>1</td>\n",
              "      <td>1</td>\n",
              "      <td>Allison, Master. Hudson Trevor</td>\n",
              "      <td>male</td>\n",
              "      <td>0.92</td>\n",
              "      <td>1</td>\n",
              "      <td>2</td>\n",
              "      <td>113781</td>\n",
              "      <td>151.5500</td>\n",
              "      <td>C22 C26</td>\n",
              "      <td>S</td>\n",
              "      <td>11</td>\n",
              "      <td>NaN</td>\n",
              "      <td>Montreal, PQ / Chesterville, ON</td>\n",
              "    </tr>\n",
              "    <tr>\n",
              "      <th>2</th>\n",
              "      <td>1</td>\n",
              "      <td>0</td>\n",
              "      <td>Allison, Miss. Helen Loraine</td>\n",
              "      <td>female</td>\n",
              "      <td>2.00</td>\n",
              "      <td>1</td>\n",
              "      <td>2</td>\n",
              "      <td>113781</td>\n",
              "      <td>151.5500</td>\n",
              "      <td>C22 C26</td>\n",
              "      <td>S</td>\n",
              "      <td>NaN</td>\n",
              "      <td>NaN</td>\n",
              "      <td>Montreal, PQ / Chesterville, ON</td>\n",
              "    </tr>\n",
              "    <tr>\n",
              "      <th>3</th>\n",
              "      <td>1</td>\n",
              "      <td>0</td>\n",
              "      <td>Allison, Mr. Hudson Joshua Creighton</td>\n",
              "      <td>male</td>\n",
              "      <td>30.00</td>\n",
              "      <td>1</td>\n",
              "      <td>2</td>\n",
              "      <td>113781</td>\n",
              "      <td>151.5500</td>\n",
              "      <td>C22 C26</td>\n",
              "      <td>S</td>\n",
              "      <td>NaN</td>\n",
              "      <td>135.0</td>\n",
              "      <td>Montreal, PQ / Chesterville, ON</td>\n",
              "    </tr>\n",
              "    <tr>\n",
              "      <th>4</th>\n",
              "      <td>1</td>\n",
              "      <td>0</td>\n",
              "      <td>Allison, Mrs. Hudson J C (Bessie Waldo Daniels)</td>\n",
              "      <td>female</td>\n",
              "      <td>25.00</td>\n",
              "      <td>1</td>\n",
              "      <td>2</td>\n",
              "      <td>113781</td>\n",
              "      <td>151.5500</td>\n",
              "      <td>C22 C26</td>\n",
              "      <td>S</td>\n",
              "      <td>NaN</td>\n",
              "      <td>NaN</td>\n",
              "      <td>Montreal, PQ / Chesterville, ON</td>\n",
              "    </tr>\n",
              "  </tbody>\n",
              "</table>\n",
              "</div>"
            ],
            "text/plain": [
              "   pclass  survived  ...   body                        home.dest\n",
              "0       1         1  ...    NaN                     St Louis, MO\n",
              "1       1         1  ...    NaN  Montreal, PQ / Chesterville, ON\n",
              "2       1         0  ...    NaN  Montreal, PQ / Chesterville, ON\n",
              "3       1         0  ...  135.0  Montreal, PQ / Chesterville, ON\n",
              "4       1         0  ...    NaN  Montreal, PQ / Chesterville, ON\n",
              "\n",
              "[5 rows x 14 columns]"
            ]
          },
          "metadata": {
            "tags": []
          },
          "execution_count": 93
        }
      ]
    },
    {
      "cell_type": "markdown",
      "metadata": {
        "id": "vTk1-mF5WYFN",
        "colab_type": "text"
      },
      "source": [
        "### Preprocessing of the Dataset"
      ]
    },
    {
      "cell_type": "markdown",
      "metadata": {
        "id": "kx9UrI9WWt17",
        "colab_type": "text"
      },
      "source": [
        "\n",
        "\n",
        "---\n",
        "\n",
        "\n",
        "**1. Convert the categorical values of columns 'sex', 'embarked', 'pclass' into dummy values and add them into titanic_data_new DataFrame**\n",
        "\n",
        "\n",
        "\n",
        "\n",
        "---\n",
        "\n"
      ]
    },
    {
      "cell_type": "code",
      "metadata": {
        "id": "AwDh9njbZ0QU",
        "colab_type": "code",
        "colab": {}
      },
      "source": [
        "titanic_data_new = pd.concat([pd.get_dummies(titanic['sex']), \n",
        "                              pd.get_dummies(titanic['embarked']), \n",
        "                              pd.get_dummies(titanic['pclass'])],axis=1)"
      ],
      "execution_count": 0,
      "outputs": []
    },
    {
      "cell_type": "markdown",
      "metadata": {
        "id": "Z9bxOfzDbY-n",
        "colab_type": "text"
      },
      "source": [
        "\n",
        "\n",
        "---\n",
        "\n",
        "\n",
        "**2. Fill the missing data in Age and Fare columns with the mean value of the respected column then add these columns to titanic_data_new**\n",
        "\n",
        "\n",
        "---\n",
        "\n"
      ]
    },
    {
      "cell_type": "code",
      "metadata": {
        "id": "DNx7Pr0ehhAs",
        "colab_type": "code",
        "colab": {
          "base_uri": "https://localhost:8080/",
          "height": 419
        },
        "outputId": "c10cf3b7-0f51-4830-db89-97002ebf4c46"
      },
      "source": [
        "titanic_data_new = pd.concat([titanic_data_new,\n",
        "                              titanic['age'].fillna(titanic['age'].mean()), \n",
        "                              titanic['fare'].fillna(titanic['fare'].mean())],axis=1)\n",
        "titanic_data_new"
      ],
      "execution_count": 95,
      "outputs": [
        {
          "output_type": "execute_result",
          "data": {
            "text/html": [
              "<div>\n",
              "<style scoped>\n",
              "    .dataframe tbody tr th:only-of-type {\n",
              "        vertical-align: middle;\n",
              "    }\n",
              "\n",
              "    .dataframe tbody tr th {\n",
              "        vertical-align: top;\n",
              "    }\n",
              "\n",
              "    .dataframe thead th {\n",
              "        text-align: right;\n",
              "    }\n",
              "</style>\n",
              "<table border=\"1\" class=\"dataframe\">\n",
              "  <thead>\n",
              "    <tr style=\"text-align: right;\">\n",
              "      <th></th>\n",
              "      <th>female</th>\n",
              "      <th>male</th>\n",
              "      <th>C</th>\n",
              "      <th>Q</th>\n",
              "      <th>S</th>\n",
              "      <th>1</th>\n",
              "      <th>2</th>\n",
              "      <th>3</th>\n",
              "      <th>age</th>\n",
              "      <th>fare</th>\n",
              "    </tr>\n",
              "  </thead>\n",
              "  <tbody>\n",
              "    <tr>\n",
              "      <th>0</th>\n",
              "      <td>1</td>\n",
              "      <td>0</td>\n",
              "      <td>0</td>\n",
              "      <td>0</td>\n",
              "      <td>1</td>\n",
              "      <td>1</td>\n",
              "      <td>0</td>\n",
              "      <td>0</td>\n",
              "      <td>29.000000</td>\n",
              "      <td>211.3375</td>\n",
              "    </tr>\n",
              "    <tr>\n",
              "      <th>1</th>\n",
              "      <td>0</td>\n",
              "      <td>1</td>\n",
              "      <td>0</td>\n",
              "      <td>0</td>\n",
              "      <td>1</td>\n",
              "      <td>1</td>\n",
              "      <td>0</td>\n",
              "      <td>0</td>\n",
              "      <td>0.920000</td>\n",
              "      <td>151.5500</td>\n",
              "    </tr>\n",
              "    <tr>\n",
              "      <th>2</th>\n",
              "      <td>1</td>\n",
              "      <td>0</td>\n",
              "      <td>0</td>\n",
              "      <td>0</td>\n",
              "      <td>1</td>\n",
              "      <td>1</td>\n",
              "      <td>0</td>\n",
              "      <td>0</td>\n",
              "      <td>2.000000</td>\n",
              "      <td>151.5500</td>\n",
              "    </tr>\n",
              "    <tr>\n",
              "      <th>3</th>\n",
              "      <td>0</td>\n",
              "      <td>1</td>\n",
              "      <td>0</td>\n",
              "      <td>0</td>\n",
              "      <td>1</td>\n",
              "      <td>1</td>\n",
              "      <td>0</td>\n",
              "      <td>0</td>\n",
              "      <td>30.000000</td>\n",
              "      <td>151.5500</td>\n",
              "    </tr>\n",
              "    <tr>\n",
              "      <th>4</th>\n",
              "      <td>1</td>\n",
              "      <td>0</td>\n",
              "      <td>0</td>\n",
              "      <td>0</td>\n",
              "      <td>1</td>\n",
              "      <td>1</td>\n",
              "      <td>0</td>\n",
              "      <td>0</td>\n",
              "      <td>25.000000</td>\n",
              "      <td>151.5500</td>\n",
              "    </tr>\n",
              "    <tr>\n",
              "      <th>...</th>\n",
              "      <td>...</td>\n",
              "      <td>...</td>\n",
              "      <td>...</td>\n",
              "      <td>...</td>\n",
              "      <td>...</td>\n",
              "      <td>...</td>\n",
              "      <td>...</td>\n",
              "      <td>...</td>\n",
              "      <td>...</td>\n",
              "      <td>...</td>\n",
              "    </tr>\n",
              "    <tr>\n",
              "      <th>1304</th>\n",
              "      <td>1</td>\n",
              "      <td>0</td>\n",
              "      <td>1</td>\n",
              "      <td>0</td>\n",
              "      <td>0</td>\n",
              "      <td>0</td>\n",
              "      <td>0</td>\n",
              "      <td>1</td>\n",
              "      <td>14.500000</td>\n",
              "      <td>14.4542</td>\n",
              "    </tr>\n",
              "    <tr>\n",
              "      <th>1305</th>\n",
              "      <td>1</td>\n",
              "      <td>0</td>\n",
              "      <td>1</td>\n",
              "      <td>0</td>\n",
              "      <td>0</td>\n",
              "      <td>0</td>\n",
              "      <td>0</td>\n",
              "      <td>1</td>\n",
              "      <td>29.881138</td>\n",
              "      <td>14.4542</td>\n",
              "    </tr>\n",
              "    <tr>\n",
              "      <th>1306</th>\n",
              "      <td>0</td>\n",
              "      <td>1</td>\n",
              "      <td>1</td>\n",
              "      <td>0</td>\n",
              "      <td>0</td>\n",
              "      <td>0</td>\n",
              "      <td>0</td>\n",
              "      <td>1</td>\n",
              "      <td>26.500000</td>\n",
              "      <td>7.2250</td>\n",
              "    </tr>\n",
              "    <tr>\n",
              "      <th>1307</th>\n",
              "      <td>0</td>\n",
              "      <td>1</td>\n",
              "      <td>1</td>\n",
              "      <td>0</td>\n",
              "      <td>0</td>\n",
              "      <td>0</td>\n",
              "      <td>0</td>\n",
              "      <td>1</td>\n",
              "      <td>27.000000</td>\n",
              "      <td>7.2250</td>\n",
              "    </tr>\n",
              "    <tr>\n",
              "      <th>1308</th>\n",
              "      <td>0</td>\n",
              "      <td>1</td>\n",
              "      <td>0</td>\n",
              "      <td>0</td>\n",
              "      <td>1</td>\n",
              "      <td>0</td>\n",
              "      <td>0</td>\n",
              "      <td>1</td>\n",
              "      <td>29.000000</td>\n",
              "      <td>7.8750</td>\n",
              "    </tr>\n",
              "  </tbody>\n",
              "</table>\n",
              "<p>1309 rows × 10 columns</p>\n",
              "</div>"
            ],
            "text/plain": [
              "      female  male  C  Q  S  1  2  3        age      fare\n",
              "0          1     0  0  0  1  1  0  0  29.000000  211.3375\n",
              "1          0     1  0  0  1  1  0  0   0.920000  151.5500\n",
              "2          1     0  0  0  1  1  0  0   2.000000  151.5500\n",
              "3          0     1  0  0  1  1  0  0  30.000000  151.5500\n",
              "4          1     0  0  0  1  1  0  0  25.000000  151.5500\n",
              "...      ...   ... .. .. .. .. .. ..        ...       ...\n",
              "1304       1     0  1  0  0  0  0  1  14.500000   14.4542\n",
              "1305       1     0  1  0  0  0  0  1  29.881138   14.4542\n",
              "1306       0     1  1  0  0  0  0  1  26.500000    7.2250\n",
              "1307       0     1  1  0  0  0  0  1  27.000000    7.2250\n",
              "1308       0     1  0  0  1  0  0  1  29.000000    7.8750\n",
              "\n",
              "[1309 rows x 10 columns]"
            ]
          },
          "metadata": {
            "tags": []
          },
          "execution_count": 95
        }
      ]
    },
    {
      "cell_type": "markdown",
      "metadata": {
        "id": "SlRzKfhxkd1M",
        "colab_type": "text"
      },
      "source": [
        "###Normalization\n",
        "\n",
        "\n",
        "---\n",
        "\n",
        "\n",
        "\n",
        "1. Normalize the columns which have numerical data\n",
        "\n",
        "\n",
        "\n",
        "---\n",
        "\n"
      ]
    },
    {
      "cell_type": "code",
      "metadata": {
        "id": "jo0rXWJHWeDu",
        "colab_type": "code",
        "outputId": "45655e1c-49dd-4ba3-df65-e792e0a52e4f",
        "colab": {
          "base_uri": "https://localhost:8080/",
          "height": 323
        }
      },
      "source": [
        "titanic_data_new.info()"
      ],
      "execution_count": 96,
      "outputs": [
        {
          "output_type": "stream",
          "text": [
            "<class 'pandas.core.frame.DataFrame'>\n",
            "RangeIndex: 1309 entries, 0 to 1308\n",
            "Data columns (total 10 columns):\n",
            " #   Column  Non-Null Count  Dtype  \n",
            "---  ------  --------------  -----  \n",
            " 0   female  1309 non-null   uint8  \n",
            " 1   male    1309 non-null   uint8  \n",
            " 2   C       1309 non-null   uint8  \n",
            " 3   Q       1309 non-null   uint8  \n",
            " 4   S       1309 non-null   uint8  \n",
            " 5   1       1309 non-null   uint8  \n",
            " 6   2       1309 non-null   uint8  \n",
            " 7   3       1309 non-null   uint8  \n",
            " 8   age     1309 non-null   float64\n",
            " 9   fare    1309 non-null   float64\n",
            "dtypes: float64(2), uint8(8)\n",
            "memory usage: 30.8 KB\n"
          ],
          "name": "stdout"
        }
      ]
    },
    {
      "cell_type": "code",
      "metadata": {
        "id": "Y3hpu92TlM38",
        "colab_type": "code",
        "colab": {}
      },
      "source": [
        "age_norm  = (titanic['age'] - titanic['age'].mean())/titanic['age'].std()\n",
        "fare_norm = (titanic['fare'] - titanic['fare'].mean())/titanic['fare'].std()\n",
        "numeric_column = titanic.select_dtypes(include=['int','float'])"
      ],
      "execution_count": 0,
      "outputs": []
    },
    {
      "cell_type": "markdown",
      "metadata": {
        "id": "wB9-5x83mFAO",
        "colab_type": "text"
      },
      "source": [
        "\n",
        "\n",
        "---\n",
        "2. Drop the original age, fare columns\n",
        "3. Append the normalized columns to the titanic_data_new DataFrame.\n",
        "\n",
        "\n",
        "\n",
        "---\n",
        "\n"
      ]
    },
    {
      "cell_type": "code",
      "metadata": {
        "id": "Kb00kM0onQJy",
        "colab_type": "code",
        "colab": {
          "base_uri": "https://localhost:8080/",
          "height": 204
        },
        "outputId": "8f806327-06b8-44f8-ad80-db69175322ef"
      },
      "source": [
        "titanic_data_new = titanic_data_new.drop(columns=['age','fare'])\n",
        "titanic_data_new = pd.concat([titanic_data_new, age_norm, fare_norm],axis=1)\n",
        "titanic_data_new.head()"
      ],
      "execution_count": 98,
      "outputs": [
        {
          "output_type": "execute_result",
          "data": {
            "text/html": [
              "<div>\n",
              "<style scoped>\n",
              "    .dataframe tbody tr th:only-of-type {\n",
              "        vertical-align: middle;\n",
              "    }\n",
              "\n",
              "    .dataframe tbody tr th {\n",
              "        vertical-align: top;\n",
              "    }\n",
              "\n",
              "    .dataframe thead th {\n",
              "        text-align: right;\n",
              "    }\n",
              "</style>\n",
              "<table border=\"1\" class=\"dataframe\">\n",
              "  <thead>\n",
              "    <tr style=\"text-align: right;\">\n",
              "      <th></th>\n",
              "      <th>female</th>\n",
              "      <th>male</th>\n",
              "      <th>C</th>\n",
              "      <th>Q</th>\n",
              "      <th>S</th>\n",
              "      <th>1</th>\n",
              "      <th>2</th>\n",
              "      <th>3</th>\n",
              "      <th>age</th>\n",
              "      <th>fare</th>\n",
              "    </tr>\n",
              "  </thead>\n",
              "  <tbody>\n",
              "    <tr>\n",
              "      <th>0</th>\n",
              "      <td>1</td>\n",
              "      <td>0</td>\n",
              "      <td>0</td>\n",
              "      <td>0</td>\n",
              "      <td>1</td>\n",
              "      <td>1</td>\n",
              "      <td>0</td>\n",
              "      <td>0</td>\n",
              "      <td>-0.061133</td>\n",
              "      <td>3.439849</td>\n",
              "    </tr>\n",
              "    <tr>\n",
              "      <th>1</th>\n",
              "      <td>0</td>\n",
              "      <td>1</td>\n",
              "      <td>0</td>\n",
              "      <td>0</td>\n",
              "      <td>1</td>\n",
              "      <td>1</td>\n",
              "      <td>0</td>\n",
              "      <td>0</td>\n",
              "      <td>-2.009307</td>\n",
              "      <td>2.284729</td>\n",
              "    </tr>\n",
              "    <tr>\n",
              "      <th>2</th>\n",
              "      <td>1</td>\n",
              "      <td>0</td>\n",
              "      <td>0</td>\n",
              "      <td>0</td>\n",
              "      <td>1</td>\n",
              "      <td>1</td>\n",
              "      <td>0</td>\n",
              "      <td>0</td>\n",
              "      <td>-1.934378</td>\n",
              "      <td>2.284729</td>\n",
              "    </tr>\n",
              "    <tr>\n",
              "      <th>3</th>\n",
              "      <td>0</td>\n",
              "      <td>1</td>\n",
              "      <td>0</td>\n",
              "      <td>0</td>\n",
              "      <td>1</td>\n",
              "      <td>1</td>\n",
              "      <td>0</td>\n",
              "      <td>0</td>\n",
              "      <td>0.008247</td>\n",
              "      <td>2.284729</td>\n",
              "    </tr>\n",
              "    <tr>\n",
              "      <th>4</th>\n",
              "      <td>1</td>\n",
              "      <td>0</td>\n",
              "      <td>0</td>\n",
              "      <td>0</td>\n",
              "      <td>1</td>\n",
              "      <td>1</td>\n",
              "      <td>0</td>\n",
              "      <td>0</td>\n",
              "      <td>-0.338651</td>\n",
              "      <td>2.284729</td>\n",
              "    </tr>\n",
              "  </tbody>\n",
              "</table>\n",
              "</div>"
            ],
            "text/plain": [
              "   female  male  C  Q  S  1  2  3       age      fare\n",
              "0       1     0  0  0  1  1  0  0 -0.061133  3.439849\n",
              "1       0     1  0  0  1  1  0  0 -2.009307  2.284729\n",
              "2       1     0  0  0  1  1  0  0 -1.934378  2.284729\n",
              "3       0     1  0  0  1  1  0  0  0.008247  2.284729\n",
              "4       1     0  0  0  1  1  0  0 -0.338651  2.284729"
            ]
          },
          "metadata": {
            "tags": []
          },
          "execution_count": 98
        }
      ]
    },
    {
      "cell_type": "markdown",
      "metadata": {
        "id": "uLxN3PozntKe",
        "colab_type": "text"
      },
      "source": [
        "###Plotting\n",
        "1. plot the age against the ID(continuous)\n",
        "2. plot the fare against the ID(scatter)"
      ]
    },
    {
      "cell_type": "code",
      "metadata": {
        "id": "-uOMBIL7T8ar",
        "colab_type": "code",
        "colab": {
          "base_uri": "https://localhost:8080/",
          "height": 283
        },
        "outputId": "981fca48-a8c1-4084-8fbd-e192f77481bb"
      },
      "source": [
        "from matplotlib import pyplot as plt\n",
        "age = titanic_data_new['age']\n",
        "age.plot(c='purple')"
      ],
      "execution_count": 99,
      "outputs": [
        {
          "output_type": "execute_result",
          "data": {
            "text/plain": [
              "<matplotlib.axes._subplots.AxesSubplot at 0x7f5247b29cf8>"
            ]
          },
          "metadata": {
            "tags": []
          },
          "execution_count": 99
        },
        {
          "output_type": "display_data",
          "data": {
            "image/png": "[encoded data removed]",
            "text/plain": [
              "<Figure size 432x288 with 1 Axes>"
            ]
          },
          "metadata": {
            "tags": [],
            "needs_background": "light"
          }
        }
      ]
    },
    {
      "cell_type": "code",
      "metadata": {
        "id": "LdSfNEKYn_RO",
        "colab_type": "code",
        "colab": {
          "base_uri": "https://localhost:8080/",
          "height": 297
        },
        "outputId": "836875b3-8634-48f6-f32c-8e0e8122c32e"
      },
      "source": [
        "titanic_data_new['index'] = titanic_data_new.index\n",
        "index = titanic_data_new['index']\n",
        "fare = titanic_data_new['fare']\n",
        "titanic_data_new.plot.scatter(x='index',y='fare',c='purple')"
      ],
      "execution_count": 100,
      "outputs": [
        {
          "output_type": "execute_result",
          "data": {
            "text/plain": [
              "<matplotlib.axes._subplots.AxesSubplot at 0x7f5247a93240>"
            ]
          },
          "metadata": {
            "tags": []
          },
          "execution_count": 100
        },
        {
          "output_type": "display_data",
          "data": {
            "image/png": "[encoded data removed]",
            "text/plain": [
              "<Figure size 432x288 with 1 Axes>"
            ]
          },
          "metadata": {
            "tags": [],
            "needs_background": "light"
          }
        }
      ]
    },
    {
      "cell_type": "markdown",
      "metadata": {
        "id": "LQr7y6eevTvy",
        "colab_type": "text"
      },
      "source": [
        "## End of Part - 2\n",
        "---"
      ]
    },
    {
      "cell_type": "markdown",
      "metadata": {
        "id": "TWhZcKvfvW2B",
        "colab_type": "text"
      },
      "source": [
        "## Part - 3\n",
        "---"
      ]
    },
    {
      "cell_type": "markdown",
      "metadata": {
        "id": "8bY4H9DszQ2S",
        "colab_type": "text"
      },
      "source": [
        "In this part, you will work with the library ```matplotlib```. Import the ```pyplot``` from ```matplotlib``` with an alias name ```plt```."
      ]
    },
    {
      "cell_type": "code",
      "metadata": {
        "id": "hPN6qctRzknT",
        "colab_type": "code",
        "colab": {}
      },
      "source": [
        "from matplotlib import pyplot as plt"
      ],
      "execution_count": 0,
      "outputs": []
    },
    {
      "cell_type": "markdown",
      "metadata": {
        "id": "fQ6KX_Aezlub",
        "colab_type": "text"
      },
      "source": [
        "Plot the sine function with domain in $[-3\\pi,3\\pi]$. Label the axes appropriately. Add title $\\sin(x)$. Use latex formatting while adding the title. Set the plot size to (10,10)"
      ]
    },
    {
      "cell_type": "code",
      "metadata": {
        "id": "0tA3J5mA1cQ0",
        "colab_type": "code",
        "colab": {
          "base_uri": "https://localhost:8080/",
          "height": 695
        },
        "outputId": "0aeaa59a-4456-4182-f52e-f37f156bbbc0"
      },
      "source": [
        "pi = np.pi\n",
        "x = np.linspace(-3*pi,3*pi,600)\n",
        "y = np.sin(x)\n",
        "fig = plt.figure(figsize=(10,10))\n",
        "plt.plot(x,y,c='magenta')\n",
        "fig.suptitle('$\\sin(x)$', fontsize=20, c='magenta')\n",
        "plt.xlabel('x')\n",
        "plt.ylabel('sin(x)')"
      ],
      "execution_count": 102,
      "outputs": [
        {
          "output_type": "execute_result",
          "data": {
            "text/plain": [
              "Text(0, 0.5, 'sin(x)')"
            ]
          },
          "metadata": {
            "tags": []
          },
          "execution_count": 102
        },
        {
          "output_type": "display_data",
          "data": {
            "image/png": "[encoded data removed]",
            "text/plain": [
              "<Figure size 720x720 with 1 Axes>"
            ]
          },
          "metadata": {
            "tags": [],
            "needs_background": "light"
          }
        }
      ]
    },
    {
      "cell_type": "markdown",
      "metadata": {
        "id": "6KV7RqMm1d8P",
        "colab_type": "text"
      },
      "source": [
        "Plot $\\sin(x)$ and its spectrum, $\\cos(x)$ and its spectrum in a single plot, in the domain $[-2\\pi,2\\pi]$. Label the plot appropriately."
      ]
    },
    {
      "cell_type": "code",
      "metadata": {
        "id": "-OJuY0HO12Oo",
        "colab_type": "code",
        "colab": {
          "base_uri": "https://localhost:8080/",
          "height": 1000
        },
        "outputId": "ae812b3a-a30b-4fd0-d84a-95b54112efc0"
      },
      "source": [
        "x = np.linspace(-2*pi,2*pi,400)\n",
        "y_sin = np.sin(x)\n",
        "y_cos = np.cos(x)\n",
        "spectrum_sin = np.fft.fft(y_sin)\n",
        "spectrum_cos = np.fft.fft(y_cos)\n",
        "f = np.fft.fftfreq(400)                                                         #Frequency axis marking\n",
        "################Plotting the sin function and spectrum of sin###################\n",
        "fig = plt.figure(figsize=(10,10))\n",
        "##sin function subplot\n",
        "plt.subplot(1,2,1); plt.plot(x,y_sin,c='orange');\n",
        "fig.suptitle('$\\sin(x)$', fontsize=20, c='orange')\n",
        "plt.xlabel('x');plt.ylabel('sin(x)')\n",
        "##sin spectrum subplot\n",
        "plt.subplot(1,2,2); plt.plot(f,spectrum_sin,c='orange');\n",
        "fig.suptitle('Plot and Spectrum of sin', fontsize=20, c='orange')\n",
        "plt.xlabel('f');plt.ylabel('Spectrum amplitude')\n",
        "plt.show()\n",
        "#################Plotting the cos function and Spectrum of cos##################\n",
        "fig = plt.figure(figsize=(10,10))\n",
        "#cos function subplot\n",
        "plt.subplot(1,2,1); plt.plot(x,y_cos,c='orange');\n",
        "fig.suptitle('$\\cos(x)$', fontsize=20, c='orange')\n",
        "plt.xlabel('x');plt.ylabel('cos(x)')\n",
        "#cos spectrum subplot\n",
        "plt.subplot(1,2,2); plt.plot(f,spectrum_cos,c='orange');\n",
        "fig.suptitle('Plot and Spectrum of cos', fontsize=20, c='orange')\n",
        "plt.xlabel('f');plt.ylabel('Spectrum amplitude')\n",
        "plt.show()\n"
      ],
      "execution_count": 106,
      "outputs": [
        {
          "output_type": "stream",
          "text": [
            "/usr/local/lib/python3.6/dist-packages/numpy/core/_asarray.py:85: ComplexWarning: Casting complex values to real discards the imaginary part\n",
            "  return array(a, dtype, copy=False, order=order)\n"
          ],
          "name": "stderr"
        },
        {
          "output_type": "display_data",
          "data": {
            "image/png": "[encoded data removed]",
            "text/plain": [
              "<Figure size 720x720 with 2 Axes>"
            ]
          },
          "metadata": {
            "tags": [],
            "needs_background": "light"
          }
        },
        {
          "output_type": "stream",
          "text": [
            "/usr/local/lib/python3.6/dist-packages/numpy/core/_asarray.py:85: ComplexWarning: Casting complex values to real discards the imaginary part\n",
            "  return array(a, dtype, copy=False, order=order)\n"
          ],
          "name": "stderr"
        },
        {
          "output_type": "display_data",
          "data": {
            "image/png": "[encoded data removed]",
            "text/plain": [
              "<Figure size 720x720 with 2 Axes>"
            ]
          },
          "metadata": {
            "tags": [],
            "needs_background": "light"
          }
        }
      ]
    },
    {
      "cell_type": "markdown",
      "metadata": {
        "id": "1S6ZRm6B18ZF",
        "colab_type": "text"
      },
      "source": [
        "## End of Part - 3\n",
        "---"
      ]
    },
    {
      "cell_type": "markdown",
      "metadata": {
        "id": "MUucpzXBl096",
        "colab_type": "text"
      },
      "source": [
        "Create a Github repository with the name ***SHALA2020*** and save this assignment there."
      ]
    }
  ]
}